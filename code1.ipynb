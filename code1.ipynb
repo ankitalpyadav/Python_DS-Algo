{
 "cells": [
  {
   "cell_type": "code",
   "execution_count": 5,
   "metadata": {},
   "outputs": [
    {
     "name": "stdout",
     "output_type": "stream",
     "text": [
      "id of num1:  2449848756848\n",
      "id of num2:  2449848756848\n"
     ]
    }
   ],
   "source": [
    "num1 = 11\n",
    "num2 = num1\n",
    "\n",
    "print(\"id of num1: \", id(num1))\n",
    "print(\"id of num2: \", id(num2))\n"
   ]
  },
  {
   "cell_type": "code",
   "execution_count": 25,
   "metadata": {},
   "outputs": [
    {
     "name": "stdout",
     "output_type": "stream",
     "text": [
      "   id     name\n",
      "0   4    james\n",
      "1   5      kim\n",
      "2   6  tchalla\n",
      "   id     name\n",
      "0   1    james\n",
      "1   2      kim\n",
      "2   3  tchalla\n"
     ]
    }
   ],
   "source": [
    "import pandas as pd\n",
    "\n",
    "dict1 = {'id': [1,2,3], 'name': ['james', 'kim', 'tchalla']}\n",
    "\n",
    "df = pd.DataFrame(dict1)\n",
    "# print(\"o \", df)\n",
    "df_c = df.copy(deep=True) \n",
    "df_c['id'] = [4,5,6]\n",
    "print(df)\n",
    "print(df_c)\n"
   ]
  }
 ],
 "metadata": {
  "kernelspec": {
   "display_name": "base",
   "language": "python",
   "name": "python3"
  },
  "language_info": {
   "codemirror_mode": {
    "name": "ipython",
    "version": 3
   },
   "file_extension": ".py",
   "mimetype": "text/x-python",
   "name": "python",
   "nbconvert_exporter": "python",
   "pygments_lexer": "ipython3",
   "version": "3.9.13"
  },
  "orig_nbformat": 4,
  "vscode": {
   "interpreter": {
    "hash": "5179d32cf6ec497baf3f8a3ef987cc77c5d2dc691fdde20a56316522f61a7323"
   }
  }
 },
 "nbformat": 4,
 "nbformat_minor": 2
}
